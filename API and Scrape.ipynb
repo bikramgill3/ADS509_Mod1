{
 "cells": [
  {
   "cell_type": "markdown",
   "id": "95952cac",
   "metadata": {},
   "source": [
    "# ADS 509 Module 1: APIs and Web Scraping\n",
    "\n",
    "This notebook has three parts. In the first part you will pull data from the Twitter API. In the second, you will scrape lyrics from AZLyrics.com. In the last part, you'll run code that verifies the completeness of your data pull. \n",
    "\n",
    "For this assignment you have chosen two musical artists who have at least 100,000 Twitter followers and 20 songs with lyrics on AZLyrics.com. In this part of the assignment we pull the some of the user information for the followers of your artist and store them in text files. \n"
   ]
  },
  {
   "cell_type": "markdown",
   "id": "4ce62b2b",
   "metadata": {},
   "source": [
    "## Important Note\n",
    "\n",
    "This assignment requires you to have a version of Tweepy that is at least version 4. The latest version is 4.10 as I write this. Critically, this version of Tweepy is *not* on the upgrade path from Version 3, so you will not be able to simply upgrade the package if you are on Version 3. Instead you will need to explicitly install version 4, which you can do with a command like this: `pip install \"tweepy>=4\"`. You will also be using Version 2 of the Twitter API for this assignment. \n",
    "\n",
    "Run the below cell. If your version of Tweepy begins with a \"4\", then you should be good to go. If it begins with a \"3\" then run the following command, found [here](https://stackoverflow.com/questions/5226311/installing-specific-package-version-with-pip), at the command line or in a cell: `pip install -Iv tweepy==4.9`. (You may want to update that version number if Tweepy has moved on past 4.9. "
   ]
  },
  {
   "cell_type": "code",
   "execution_count": 9,
   "id": "23cf2158",
   "metadata": {},
   "outputs": [
    {
     "name": "stdout",
     "output_type": "stream",
     "text": [
      "Name: tweepy\n",
      "Version: 4.10.1\n",
      "Summary: Twitter library for Python\n",
      "Home-page: https://www.tweepy.org/\n",
      "Author: Joshua Roesslein\n",
      "Author-email: tweepy@googlegroups.com\n",
      "License: MIT\n",
      "Location: /Users/bikramgill/opt/miniconda3/envs/ADS502/lib/python3.9/site-packages\n",
      "Requires: requests-oauthlib, requests, oauthlib\n",
      "Required-by: \n",
      "Note: you may need to restart the kernel to use updated packages.\n"
     ]
    }
   ],
   "source": [
    "pip show tweepy"
   ]
  },
  {
   "cell_type": "markdown",
   "id": "91c8969e",
   "metadata": {},
   "source": [
    "# Twitter API Pull"
   ]
  },
  {
   "cell_type": "code",
   "execution_count": 37,
   "id": "185076b0",
   "metadata": {},
   "outputs": [],
   "source": [
    "# for the twitter section\n",
    "import tweepy\n",
    "import os\n",
    "import datetime\n",
    "import re\n",
    "from pprint import pprint\n",
    "\n",
    "# for the lyrics scrape section\n",
    "import requests\n",
    "import time\n",
    "from bs4 import BeautifulSoup\n",
    "from collections import defaultdict, Counter\n",
    "import shutil"
   ]
  },
  {
   "cell_type": "code",
   "execution_count": 11,
   "id": "a47e2d5f",
   "metadata": {},
   "outputs": [],
   "source": [
    "# Use this cell for any import statements you add\n",
    "from os.path import exists\n",
    "import random\n",
    "import json\n"
   ]
  },
  {
   "cell_type": "markdown",
   "id": "c21c86ec",
   "metadata": {},
   "source": [
    "We need bring in our API keys. Since API keys should be kept secret, we'll keep them in a file called `api_keys.py`. This file should be stored in the directory where you store this notebook. The example file is provided for you on Blackboard. The example has API keys that are _not_ functional, so you'll need to get Twitter credentials and replace the placeholder keys. "
   ]
  },
  {
   "cell_type": "code",
   "execution_count": 12,
   "id": "f01bdec6",
   "metadata": {},
   "outputs": [],
   "source": [
    "from api_keys import api_key, api_key_secret, bearer_token"
   ]
  },
  {
   "cell_type": "code",
   "execution_count": 13,
   "id": "d08eb1fd",
   "metadata": {},
   "outputs": [],
   "source": [
    "client = tweepy.Client(bearer_token,wait_on_rate_limit=True)"
   ]
  },
  {
   "cell_type": "markdown",
   "id": "6aa67032",
   "metadata": {},
   "source": [
    "# Testing the API\n",
    "\n",
    "The Twitter APIs are quite rich. Let's play around with some of the features before we dive into this section of the assignment. For our testing, it's convenient to have a small data set to play with. We will seed the code with the handle of John Chandler, one of the instructors in this course. His handle is `@37chandler`. Feel free to use a different handle if you would like to look at someone else's data. \n",
    "\n",
    "We will write code to explore a few aspects of the API: \n",
    "\n",
    "1. Pull some of the followers @37chandler.\n",
    "1. Explore response data, which gives us information about Twitter users. \n",
    "1. Pull the last few tweets by @37chandler.\n"
   ]
  },
  {
   "cell_type": "code",
   "execution_count": 14,
   "id": "76cf6447",
   "metadata": {},
   "outputs": [],
   "source": [
    "handle = \"37chandler\"\n",
    "user_obj = client.get_user(username=handle)\n",
    "\n",
    "followers = client.get_users_followers(\n",
    "    # Learn about user fields here: \n",
    "    # https://developer.twitter.com/en/docs/twitter-api/data-dictionary/object-model/user\n",
    "    user_obj.data.id, user_fields=[\"created_at\",\"description\",\"location\",\n",
    "                                   \"public_metrics\"]\n",
    ")\n",
    "\n"
   ]
  },
  {
   "cell_type": "markdown",
   "id": "de7892a4",
   "metadata": {},
   "source": [
    "Now let's explore these a bit. We'll start by printing out names, locations, following count, and followers count for these users. "
   ]
  },
  {
   "cell_type": "code",
   "execution_count": 15,
   "id": "c48d6bc9",
   "metadata": {},
   "outputs": [
    {
     "name": "stdout",
     "output_type": "stream",
     "text": [
      "Dave Renn lists 'None' as their location.\n",
      " Following: 42, Followers: 11.\n",
      "\n",
      "Lionel lists 'None' as their location.\n",
      " Following: 202, Followers: 204.\n",
      "\n",
      "Megan Randall lists 'None' as their location.\n",
      " Following: 141, Followers: 100.\n",
      "\n",
      "Jacob Salzman lists 'None' as their location.\n",
      " Following: 562, Followers: 134.\n",
      "\n",
      "twiter not fun lists 'None' as their location.\n",
      " Following: 221, Followers: 21.\n",
      "\n",
      "Hariettwilsonincarnate lists 'None' as their location.\n",
      " Following: 218, Followers: 60.\n",
      "\n",
      "Christian Tinsley lists 'None' as their location.\n",
      " Following: 2, Followers: 0.\n",
      "\n",
      "Steve lists 'I'm over here.' as their location.\n",
      " Following: 1589, Followers: 33.\n",
      "\n",
      "John O'Connor 🇺🇦 lists 'None' as their location.\n",
      " Following: 8, Followers: 1.\n",
      "\n",
      "CodeGrade lists 'Amsterdam' as their location.\n",
      " Following: 2819, Followers: 421.\n",
      "\n",
      "Cleverhood lists 'Providence, RI' as their location.\n",
      " Following: 2793, Followers: 3555.\n",
      "\n",
      "Regina 🚶‍♀️🚲🌳 lists 'Minneapolis' as their location.\n",
      " Following: 2796, Followers: 3324.\n",
      "\n",
      "Eric Hallstrom lists 'Missoula, MT' as their location.\n",
      " Following: 461, Followers: 304.\n",
      "\n",
      "Tyler 📊 🐕 🚲 lists 'Minneapolis, MN' as their location.\n",
      " Following: 527, Followers: 83.\n",
      "\n",
      "The Center for Community Ownership (CCO) lists 'None' as their location.\n",
      " Following: 53, Followers: 40.\n",
      "\n",
      "Deepak Chauhan lists 'None' as their location.\n",
      " Following: 450, Followers: 25.\n",
      "\n",
      "Patsy lists 'Seattle, WA' as their location.\n",
      " Following: 156, Followers: 15.\n",
      "\n",
      "andrew lists 'St Paul, MN' as their location.\n",
      " Following: 1413, Followers: 461.\n",
      "\n",
      "Ada Smith lists 'None' as their location.\n",
      " Following: 274, Followers: 198.\n",
      "\n",
      "Stacey Burns lists 'Minneapolis Witch District' as their location.\n",
      " Following: 4586, Followers: 10878.\n",
      "\n"
     ]
    }
   ],
   "source": [
    "num_to_print = 20\n",
    "\n",
    "for idx, user in enumerate(followers.data) :\n",
    "    following_count = user.public_metrics['following_count']\n",
    "    followers_count = user.public_metrics['followers_count']\n",
    "    \n",
    "    print(f\"{user.name} lists '{user.location}' as their location.\")\n",
    "    print(f\" Following: {following_count}, Followers: {followers_count}.\")\n",
    "    print()\n",
    "    \n",
    "    if idx >= (num_to_print - 1) :\n",
    "        break\n",
    "    "
   ]
  },
  {
   "cell_type": "markdown",
   "id": "8bbfe05f",
   "metadata": {},
   "source": [
    "Let's find the person who follows this handle who has the most followers. "
   ]
  },
  {
   "cell_type": "code",
   "execution_count": 16,
   "id": "bda3eec3",
   "metadata": {},
   "outputs": [
    {
     "name": "stdout",
     "output_type": "stream",
     "text": [
      "WedgeLIVE\n",
      "{'followers_count': 14157, 'following_count': 2222, 'tweet_count': 56072, 'listed_count': 218}\n"
     ]
    }
   ],
   "source": [
    "max_followers = 0\n",
    "\n",
    "for idx, user in enumerate(followers.data) :\n",
    "    followers_count = user.public_metrics['followers_count']\n",
    "    \n",
    "    if followers_count > max_followers :\n",
    "        max_followers = followers_count\n",
    "        max_follower_user = user\n",
    "\n",
    "        \n",
    "print(max_follower_user)\n",
    "print(max_follower_user.public_metrics)"
   ]
  },
  {
   "cell_type": "markdown",
   "id": "2dad0a3f",
   "metadata": {},
   "source": [
    "Let's pull some more user fields and take a look at them. The fields can be specified in the `user_fields` argument. "
   ]
  },
  {
   "cell_type": "code",
   "execution_count": 17,
   "id": "0432bbb7",
   "metadata": {},
   "outputs": [],
   "source": [
    "response = client.get_user(id=user_obj.data.id,\n",
    "                          user_fields=[\"created_at\",\"description\",\"location\",\n",
    "                                       \"entities\",\"name\",\"pinned_tweet_id\",\"profile_image_url\",\n",
    "                                       \"verified\",\"public_metrics\"])"
   ]
  },
  {
   "cell_type": "code",
   "execution_count": 18,
   "id": "eb69f9cb",
   "metadata": {},
   "outputs": [
    {
     "name": "stdout",
     "output_type": "stream",
     "text": [
      "for username we have 37chandler\n",
      "for id we have 33029025\n",
      "for created_at we have 2009-04-18 22:08:22+00:00\n",
      "for name we have John Chandler\n",
      "for verified we have False\n",
      "for profile_image_url we have https://pbs.twimg.com/profile_images/2680483898/b30ae76f909352dbae5e371fb1c27454_normal.png\n",
      "for public_metrics we have {'followers_count': 193, 'following_count': 589, 'tweet_count': 994, 'listed_count': 3}\n",
      "for description we have He/Him. Data scientist, urban cyclist, educator, erstwhile frisbee player. \n",
      "\n",
      "¯\\_(ツ)_/¯\n",
      "for location we have MN\n"
     ]
    }
   ],
   "source": [
    "for field, value in response.data.items() :\n",
    "    print(f\"for {field} we have {value}\")"
   ]
  },
  {
   "cell_type": "markdown",
   "id": "6abc5dc6",
   "metadata": {},
   "source": [
    "#### Q: How many fields are being returned in the `response` object? \n",
    "\n",
    "#### A: 9 (code below)"
   ]
  },
  {
   "cell_type": "code",
   "execution_count": 19,
   "id": "9ab1a7c9",
   "metadata": {},
   "outputs": [
    {
     "data": {
      "text/plain": [
       "9"
      ]
     },
     "execution_count": 19,
     "metadata": {},
     "output_type": "execute_result"
    }
   ],
   "source": [
    "count = 0\n",
    "\n",
    "for field in response.data.items():\n",
    "    count += 1\n",
    "    \n",
    "count"
   ]
  },
  {
   "cell_type": "markdown",
   "id": "bfb88def",
   "metadata": {},
   "source": [
    "####  Q: Are any of the fields within the user object non-scalar? (I.e., more complicated than a simple data type like integer, float, string, boolean, etc.) \n",
    "\n",
    "####  A: From code below, created_at and public_metrics more complex data types"
   ]
  },
  {
   "cell_type": "code",
   "execution_count": 20,
   "id": "d4b03f32",
   "metadata": {},
   "outputs": [
    {
     "name": "stdout",
     "output_type": "stream",
     "text": [
      "username type ---> <class 'str'>\n",
      "id type ---> <class 'int'>\n",
      "created_at type ---> <class 'datetime.datetime'>\n",
      "name type ---> <class 'str'>\n",
      "verified type ---> <class 'bool'>\n",
      "profile_image_url type ---> <class 'str'>\n",
      "public_metrics type ---> <class 'dict'>\n",
      "description type ---> <class 'str'>\n",
      "location type ---> <class 'str'>\n"
     ]
    }
   ],
   "source": [
    "for field, value in response.data.items():\n",
    "    print(\"{} type ---> {}\".format(field, type(value)))"
   ]
  },
  {
   "cell_type": "markdown",
   "id": "f6730cb3",
   "metadata": {},
   "source": [
    "#### Q: How many friends, followers, and tweets does this user have? \n",
    "\n",
    "#### A: From earlier code, followers - 193, following = 589 and tweet count = 994."
   ]
  },
  {
   "cell_type": "markdown",
   "id": "d8564d2c",
   "metadata": {},
   "source": [
    "Although you won't need it for this assignment, individual tweets can be a rich source of text-based data. To illustrate the concepts, let's look at the last few tweets for this user. You are encouraged to explore the fields that are available about Tweets."
   ]
  },
  {
   "cell_type": "code",
   "execution_count": 21,
   "id": "70b8e93a",
   "metadata": {},
   "outputs": [
    {
     "name": "stdout",
     "output_type": "stream",
     "text": [
      "1568242374085869570\n",
      "RT @depthsofwiki: lots of memes about speedy wikipedia editors — quick thread about what went down on wikipedia in the minutes after her de…\n",
      "\n",
      "1568074978754703361\n",
      "@DrLaurenWilson @leighradwood @MaritsaGeorgiou @Walgreens I could not possibly agree more with this sentiment. Compared to almost any other primary care I've received, they are great.\n",
      "\n",
      "1567530169686196224\n",
      "@DrLaurenWilson @MaritsaGeorgiou @Walgreens For those who have access to Curry Health Center on campus, you can get a bivalent booster in 15 minutes from their delightful staff.\n",
      "\n",
      "1567511181526708224\n",
      "RT @shes_the_maNN1: I can’t describe how ancient this makes me feel. https://t.co/a1IvELjOFY\n",
      "\n",
      "1567510612665864193\n",
      "RT @AngryBlackLady: this is hilarious\n",
      "\n",
      "1566031636457725953\n",
      "RT @MarkJacob16: With all the arguments over whether MAGA Republicans are fascists, I reread William Shirer’s “The Rise and Fall of the Thi…\n",
      "\n",
      "1563737816219000832\n",
      "RT @wonderofscience: The Milky Way galaxy and a phenomenon known as \"airglow\" seen from the International Space Station. https://t.co/bOLt8…\n",
      "\n",
      "1563243769209954305\n",
      "Such an awesome idea from @EmilyMandel to write some bonus content for “Sea of Tranquility” editions sold at independent book stores. Fantastic book, too. 👏👏👏 https://t.co/EMGpCEsKTn\n",
      "\n",
      "1562631400737865730\n",
      "RT @champnella: Detroit rapper @GmacCash made a song about the Belle Isle Giant Slide and it's fantastic!  Put it with some clips and, well…\n",
      "\n",
      "1561741500907720704\n",
      "RT @Sammi_Slammy: Ugly laughing in the airport right now. https://t.co/IoTQHM3Xey\n",
      "\n"
     ]
    }
   ],
   "source": [
    "\n",
    "response = client.get_users_tweets(user_obj.data.id)\n",
    "\n",
    "# By default, only the ID and text fields of each Tweet will be returned\n",
    "for idx, tweet in enumerate(response.data) :\n",
    "    print(tweet.id)\n",
    "    print(tweet.text)\n",
    "    print()\n",
    "    \n",
    "    if idx > 10 :\n",
    "        break"
   ]
  },
  {
   "cell_type": "markdown",
   "id": "66d50726",
   "metadata": {},
   "source": [
    "## Pulling Follower Information\n",
    "\n",
    "In this next section of the assignment, we will pull information about the followers of your two artists. We've seen above how to pull a set of followers using `client.get_users_followers`. This function has a parameter, `max_results`, that we can use to change the number of followers that we pull. Unfortunately, we can only pull 1000 followers at a time, which means we will need to handle the _pagination_ of our results. \n",
    "\n",
    "The return object has the `.data` field, where the results will be found. It also has `.meta`, which we use to select the next \"page\" in the results using the `next_token` result. I will illustrate the ideas using our user from above. \n",
    "\n",
    "\n",
    "### Rate Limiting\n",
    "\n",
    "Twitter limits the rates at which we can pull data, as detailed in [this guide](https://developer.twitter.com/en/docs/twitter-api/rate-limits). We can make 15 user requests per 15 minutes, meaning that we can pull $4 \\cdot 15 \\cdot 1000 = 60000$ users per hour. I illustrate the handling of rate limiting below, though whether or not you hit that part of the code depends on your value of `handle`.  \n",
    "\n",
    "\n",
    "In the below example, I'll pull all the followers, 25 at a time. (We're using 25 to illustrate the idea; when you do this set the value to 1000.) "
   ]
  },
  {
   "cell_type": "code",
   "execution_count": 22,
   "id": "e5236335",
   "metadata": {},
   "outputs": [],
   "source": [
    "handle_followers = []\n",
    "pulls = 0\n",
    "max_pulls = 100\n",
    "next_token = None\n",
    "\n",
    "while True :\n",
    "\n",
    "    followers = client.get_users_followers(\n",
    "        user_obj.data.id, \n",
    "        max_results=25, # when you do this for real, set this to 1000!\n",
    "        pagination_token = next_token,\n",
    "        user_fields=[\"created_at\",\"description\",\"location\",\n",
    "                     \"entities\",\"name\",\"pinned_tweet_id\",\"profile_image_url\",\n",
    "                     \"verified\",\"public_metrics\"]\n",
    "    )\n",
    "    pulls += 1\n",
    "    \n",
    "    for follower in followers.data : \n",
    "        follower_row = (follower.id,follower.name,follower.created_at,follower.description)\n",
    "        handle_followers.append(follower_row)\n",
    "    \n",
    "    if 'next_token' in followers.meta and pulls < max_pulls :\n",
    "        next_token = followers.meta['next_token']\n",
    "    else : \n",
    "        break\n",
    "        \n",
    "\n"
   ]
  },
  {
   "cell_type": "markdown",
   "id": "9f3ec0e5",
   "metadata": {},
   "source": [
    "## Pulling Twitter Data for Your Artists\n",
    "\n",
    "Now let's take a look at your artists and see how long it is going to take to pull all their followers. "
   ]
  },
  {
   "cell_type": "code",
   "execution_count": 23,
   "id": "6b37383c",
   "metadata": {},
   "outputs": [
    {
     "name": "stdout",
     "output_type": "stream",
     "text": [
      "It would take 5.94 hours to pull all 356373 followers for robynkonichiwa. \n",
      "It would take 67.41 hours to pull all 4044752 followers for cher. \n"
     ]
    }
   ],
   "source": [
    "artists = dict()\n",
    "\n",
    "for handle in ['robynkonichiwa','cher'] : \n",
    "    user_obj = client.get_user(username=handle,user_fields=[\"public_metrics\"])\n",
    "    artists[handle] = (user_obj.data.id, \n",
    "                       handle,\n",
    "                       user_obj.data.public_metrics['followers_count'])\n",
    "    \n",
    "\n",
    "for artist, data in artists.items() : \n",
    "    print(f\"It would take {data[2]/(1000*15*4):.2f} hours to pull all {data[2]} followers for {artist}. \")\n",
    "    "
   ]
  },
  {
   "cell_type": "markdown",
   "id": "dc6ed3f9",
   "metadata": {},
   "source": [
    "Depending on what you see in the display above, you may want to limit how many followers you pull. It'd be great to get at least 200,000 per artist. \n",
    "\n",
    "As we pull data for each artist we will write their data to a folder called \"twitter\", so we will make that folder if needed."
   ]
  },
  {
   "cell_type": "code",
   "execution_count": 24,
   "id": "e3a32641",
   "metadata": {},
   "outputs": [],
   "source": [
    "# Make the \"twitter\" folder here. If you'd like to practice your programming, add functionality \n",
    "# that checks to see if the folder exists. If it does, then \"unlink\" it. Then create a new one.\n",
    "\n",
    "if not os.path.isdir(\"twitter\") : \n",
    "    #shutil.rmtree(\"twitter/\")\n",
    "    os.mkdir(\"twitter\")"
   ]
  },
  {
   "cell_type": "markdown",
   "id": "dd58dd90",
   "metadata": {},
   "source": [
    "In this following cells, build on the above code to pull some of the followers and their data for your two artists. As you pull the data, write the follower ids to a file called `[artist name]_followers.txt` in the \"twitter\" folder. For instance, for Cher I would create a file named `cher_followers.txt`. As you pull the data, also store it in an object like a list or a data frame.\n",
    "\n",
    "In addition to creating a file that only has follower IDs in it, you will create a file that includes user data. From the response object please extract and store the following fields: \n",
    "\n",
    "* screen_name\t\n",
    "* name\t\n",
    "* id\t\n",
    "* location\t\n",
    "* followers_count\t\n",
    "* friends_count\t\n",
    "* description\n",
    "\n",
    "Store the fields with one user per row in a tab-delimited text file with the name `[artist name]_follower_data.txt`. For instance, for Cher I would create a file named `cher_follower_data.txt`. \n",
    "\n",
    "One note: the user's description can have tabs or returns in it, so make sure to clean those out of the description before writing them to the file. I've included some example code to do that below the stub. "
   ]
  },
  {
   "cell_type": "code",
   "execution_count": 25,
   "id": "ad5d24ae",
   "metadata": {},
   "outputs": [],
   "source": [
    "num_followers_to_pull = 200*1000 # feel free to use this to limit the number of followers you pull."
   ]
  },
  {
   "cell_type": "code",
   "execution_count": 26,
   "id": "0d1b71d3",
   "metadata": {},
   "outputs": [
    {
     "name": "stdout",
     "output_type": "stream",
     "text": [
      "Working on handle: BrunoMars\n"
     ]
    },
    {
     "name": "stderr",
     "output_type": "stream",
     "text": [
      "Rate limit exceeded. Sleeping for 785 seconds.\n",
      "Rate limit exceeded. Sleeping for 765 seconds.\n",
      "Rate limit exceeded. Sleeping for 750 seconds.\n",
      "Rate limit exceeded. Sleeping for 763 seconds.\n",
      "Rate limit exceeded. Sleeping for 756 seconds.\n",
      "Rate limit exceeded. Sleeping for 764 seconds.\n",
      "Rate limit exceeded. Sleeping for 764 seconds.\n",
      "Rate limit exceeded. Sleeping for 764 seconds.\n"
     ]
    },
    {
     "name": "stdout",
     "output_type": "stream",
     "text": [
      "Working on handle: rihanna\n"
     ]
    },
    {
     "name": "stderr",
     "output_type": "stream",
     "text": [
      "Rate limit exceeded. Sleeping for 763 seconds.\n",
      "Rate limit exceeded. Sleeping for 764 seconds.\n",
      "Rate limit exceeded. Sleeping for 764 seconds.\n",
      "Rate limit exceeded. Sleeping for 764 seconds.\n",
      "Rate limit exceeded. Sleeping for 761 seconds.\n",
      "Rate limit exceeded. Sleeping for 762 seconds.\n",
      "Rate limit exceeded. Sleeping for 764 seconds.\n"
     ]
    },
    {
     "name": "stdout",
     "output_type": "stream",
     "text": [
      "3:44:59.695910\n"
     ]
    }
   ],
   "source": [
    "# Modify the below code stub to pull the follower IDs and write them to a file. \n",
    "\n",
    "handles = ['BrunoMars','rihanna']\n",
    "\n",
    "whitespace_pattern = re.compile(r\"\\s+\")\n",
    "\n",
    "user_data = dict() \n",
    "followers_data = dict()\n",
    "\n",
    "for handle in handles :\n",
    "    user_data[handle] = [] # will be a list of lists\n",
    "    followers_data[handle] = [] # will be a simple list of IDs\n",
    "\n",
    "\n",
    "# Grabs the time when we start making requests to the API\n",
    "start_time = datetime.datetime.now()\n",
    "\n",
    "for handle in handles :\n",
    "    \n",
    "    print(\"Working on handle: {}\".format(handle))\n",
    "    \n",
    "    \n",
    "    ## Get User ID\n",
    "    user_obj = client.get_user(username=handle)\n",
    "    handle_id = user_obj.data.id\n",
    "    \n",
    "    # Create the output file names \n",
    "    # Files will be cleared before running API in next cell block\n",
    "    \n",
    "    followers_output_file = handle + \"_followers.txt\"\n",
    "    user_data_output_file = handle + \"_follower_data.txt\"\n",
    "    \n",
    "\n",
    "    \n",
    "    ## Clear files if code has already been run earlier. \n",
    "    ##Will allow paginator to append user id's later without duplciating data. \n",
    "    files = [followers_output_file, user_data_output_file]\n",
    "    for file in files:\n",
    "        path = os.path.join(\"twitter\", file)\n",
    "        \n",
    "        if exists(path):\n",
    "            with open(path, 'r+') as doc:\n",
    "                doc.truncate(0)     \n",
    "    \n",
    "    \n",
    "    ## Query follower info for handle via pagination\n",
    "    \n",
    "    for response in tweepy.Paginator(client.get_users_followers, handle_id, \n",
    "                                     user_fields=[\"username\",\"name\",\"id\", \"location\",\"description\",\"public_metrics\"],\n",
    "                                     max_results=1000, limit=110):\n",
    "        \n",
    "\n",
    "        for followers in response.data:\n",
    "            \n",
    "            ## Write user names of followers to dict and file\n",
    "            followers_data[handle].append(followers.username)\n",
    "            \n",
    "            with open(os.path.join(\"twitter\", followers_output_file), 'a') as file:\n",
    "                file.write(\"{}\\n\".format(followers.username))\n",
    "                \n",
    "                \n",
    "            \n",
    "            ## Write user info of followers to dict and file\n",
    "            follower_row = [str(followers.username),\n",
    "                           str(followers.name),\n",
    "                           str(followers.id),\n",
    "                           str(followers.location),\n",
    "                           str(followers.public_metrics['followers_count']),\n",
    "                           str(followers.public_metrics['following_count']),\n",
    "                           str(re.sub(r\"\\s+\",\" \",followers.description).strip())]\n",
    "            \n",
    "            user_data[handle].append(follower_row)\n",
    "            \n",
    "            \n",
    "            with open(os.path.join(\"twitter\", user_data_output_file), 'a') as file:\n",
    "                # Create a tab delimited version of each follower row\n",
    "                file.write('\\t'.join(follower_row) + '\\n')\n",
    "                                     \n",
    "                            \n",
    "\n",
    "\n",
    "        \n",
    "# Let's see how long it took to grab all follower IDs\n",
    "end_time = datetime.datetime.now()\n",
    "print(end_time - start_time)"
   ]
  },
  {
   "cell_type": "code",
   "execution_count": 32,
   "id": "2311694f",
   "metadata": {},
   "outputs": [
    {
     "data": {
      "text/plain": [
       "'Home by Warsan Shire no one leaves home unless home is the mouth of a shark. you only run for the border when you see the whole city running as well.'"
      ]
     },
     "execution_count": 32,
     "metadata": {},
     "output_type": "execute_result"
    }
   ],
   "source": [
    "tricky_description = \"\"\"\n",
    "    Home by Warsan Shire\n",
    "    \n",
    "    no one leaves home unless\n",
    "    home is the mouth of a shark.\n",
    "    you only run for the border\n",
    "    when you see the whole city\n",
    "    running as well.\n",
    "\n",
    "\"\"\"\n",
    "# This won't work in a tab-delimited text file.\n",
    "\n",
    "clean_description = re.sub(r\"\\s+\",\" \",tricky_description).strip()\n",
    "clean_description"
   ]
  },
  {
   "cell_type": "markdown",
   "id": "45c13af3",
   "metadata": {},
   "source": [
    "---\n",
    "\n",
    "# Lyrics Scrape\n",
    "\n",
    "This section asks you to pull data from the Twitter API and scrape www.AZLyrics.com. In the notebooks where you do that work you are asked to store the data in specific ways. "
   ]
  },
  {
   "cell_type": "code",
   "execution_count": 28,
   "id": "5bd7df77",
   "metadata": {},
   "outputs": [],
   "source": [
    "artists = {'brunomars':\"https://www.azlyrics.com/b/brunomars.html\",\n",
    "           'rihanna':\"https://www.azlyrics.com/r/rihanna.html\"} \n",
    "# we'll use this dictionary to hold both the artist name and the link on AZlyrics"
   ]
  },
  {
   "cell_type": "markdown",
   "id": "c236c99b",
   "metadata": {},
   "source": [
    "## A Note on Rate Limiting\n",
    "\n",
    "The lyrics site, www.azlyrics.com, does not have an explicit maximum on number of requests in any one time, but in our testing it appears that too many requests in too short a time will cause the site to stop returning lyrics pages. (Entertainingly, the page that gets returned seems to only have the song title to [a Tom Jones song](https://www.azlyrics.com/lyrics/tomjones/itsnotunusual.html).) \n",
    "\n",
    "Whenever you call `requests.get` to retrieve a page, put a `time.sleep(5 + 10*random.random())` on the next line. This will help you not to get blocked. If you _do_ get blocked, which you can identify if the returned pages are not correct, just request a lyrics page through your browser. You'll be asked to perform a CAPTCHA and then your requests should start working again. \n",
    "\n",
    "## Part 1: Finding Links to Songs Lyrics\n",
    "\n",
    "That general artist page has a list of all songs for that artist with links to the individual song pages. \n",
    "\n",
    "#### Q: Take a look at the `robots.txt` page on www.azlyrics.com. (You can read more about these pages [here](https://developers.google.com/search/docs/advanced/robots/intro).) Is the scraping we are about to do allowed or disallowed by this page? How do you know? \n",
    "\n",
    "#### A: Based on the robotx.txt file, it looks like only lyricsdb and song path access is disallowed, whilst all others are allowed. \n"
   ]
  },
  {
   "cell_type": "code",
   "execution_count": 29,
   "id": "ac9d31ec",
   "metadata": {},
   "outputs": [],
   "source": [
    "# Let's set up a dictionary of lists to hold our links\n",
    "lyrics_pages = defaultdict(list)\n",
    "\n",
    "for artist, artist_page in artists.items() :\n",
    "    # request the page and sleep\n",
    "    r = requests.get(artist_page)\n",
    "    time.sleep(5 + 10*random.random())\n",
    "\n",
    "    # now extract the links to lyrics pages from this page\n",
    "    # store the links `lyrics_pages` where the key is the artist and the\n",
    "    # value is a list of links. \n",
    "    \n",
    "    urls = []\n",
    "    soup = BeautifulSoup(r.text, 'html.parser')\n",
    "    \n",
    "    for link in soup.find_all('a'):\n",
    "        if (\"lyrics/\" + artist) in str(link.get('href')):\n",
    "            urls.append('https://www.azlyrics.com/' + str(link.get('href')))\n",
    "\n",
    "    lyrics_pages[artist] = urls"
   ]
  },
  {
   "cell_type": "markdown",
   "id": "9c285ec1",
   "metadata": {},
   "source": [
    "Let's make sure we have enough lyrics pages to scrape. "
   ]
  },
  {
   "cell_type": "code",
   "execution_count": 32,
   "id": "ae4cda68",
   "metadata": {},
   "outputs": [],
   "source": [
    "for artist, lp in lyrics_pages.items() :\n",
    "    assert(len(set(lp)) > 20) "
   ]
  },
  {
   "cell_type": "code",
   "execution_count": 33,
   "id": "edca10d6",
   "metadata": {},
   "outputs": [
    {
     "name": "stdout",
     "output_type": "stream",
     "text": [
      "For brunomars we have 79.\n",
      "The full pull will take for this artist will take 0.22 hours.\n",
      "For rihanna we have 160.\n",
      "The full pull will take for this artist will take 0.44 hours.\n"
     ]
    }
   ],
   "source": [
    "# Let's see how long it's going to take to pull these lyrics \n",
    "# if we're waiting `5 + 10*random.random()` seconds \n",
    "for artist, links in lyrics_pages.items() : \n",
    "    print(f\"For {artist} we have {len(links)}.\")\n",
    "    print(f\"The full pull will take for this artist will take {round(len(links)*10/3600,2)} hours.\")"
   ]
  },
  {
   "cell_type": "markdown",
   "id": "011be6c6",
   "metadata": {},
   "source": [
    "## Part 2: Pulling Lyrics\n",
    "\n",
    "Now that we have the links to our lyrics pages, let's go scrape them! Here are the steps for this part. \n",
    "\n",
    "1. Create an empty folder in our repo called \"lyrics\". \n",
    "1. Iterate over the artists in `lyrics_pages`. \n",
    "1. Create a subfolder in lyrics with the artist's name. For instance, if the artist was Cher you'd have `lyrics/cher/` in your repo.\n",
    "1. Iterate over the pages. \n",
    "1. Request the page and extract the lyrics from the returned HTML file using BeautifulSoup.\n",
    "1. Use the function below, `generate_filename_from_url`, to create a filename based on the lyrics page, then write the lyrics to a text file with that name. \n"
   ]
  },
  {
   "cell_type": "code",
   "execution_count": 64,
   "id": "67693711",
   "metadata": {},
   "outputs": [],
   "source": [
    "def generate_filename_from_link(link) :\n",
    "    \n",
    "    if not link :\n",
    "        return None\n",
    "    \n",
    "    link = str(link)\n",
    "    \n",
    "    # drop the http or https and the html\n",
    "    name = link.replace(\"https\",\"\").replace(\"http\",\"\")\n",
    "    name = link.replace(\".html\",\"\")\n",
    "\n",
    "    name = name.replace(\"/lyrics/\",\"\")\n",
    "    \n",
    "    # Replace useless chareacters with UNDERSCORE\n",
    "    name = name.replace(\"://\",\"\").replace(\".\",\"_\").replace(\"/\",\"_\")\n",
    "    \n",
    "    # tack on .txt\n",
    "    name = name + \".txt\"\n",
    "    \n",
    "    # additional processing remove unwanted info\n",
    "    name = name.replace(\"httpswww_azlyrics_com_\", \"\")\n",
    "    \n",
    "    return(name)\n"
   ]
  },
  {
   "cell_type": "code",
   "execution_count": 38,
   "id": "94a78c78",
   "metadata": {},
   "outputs": [],
   "source": [
    "# Make the lyrics folder here. If you'd like to practice your programming, add functionality \n",
    "# that checks to see if the folder exists. If it does, then use shutil.rmtree to remove it and create a new one.\n",
    "\n",
    "if os.path.isdir(\"lyrics\") : \n",
    "    shutil.rmtree(\"lyrics/\")\n",
    "\n",
    "os.mkdir(\"lyrics\")"
   ]
  },
  {
   "cell_type": "code",
   "execution_count": null,
   "id": "d655b687",
   "metadata": {},
   "outputs": [
    {
     "name": "stdout",
     "output_type": "stream",
     "text": [
      "Created and closed --> brunomars_somewhereinbrooklyn.txt\n",
      "Created and closed --> brunomars_theotherside.txt\n",
      "Created and closed --> brunomars_countonme.txt\n",
      "Created and closed --> brunomars_talkingtothemoon.txt\n",
      "Created and closed --> brunomars_grenade.txt\n",
      "Created and closed --> brunomars_justthewayyouare.txt\n",
      "Created and closed --> brunomars_ourfirsttime.txt\n",
      "Created and closed --> brunomars_runawaybaby.txt\n",
      "Created and closed --> brunomars_thelazysong.txt\n",
      "Created and closed --> brunomars_marryyou.txt\n",
      "Created and closed --> brunomars_talkingtothemoon.txt\n",
      "Created and closed --> brunomars_liquorstoreblues.txt\n",
      "Created and closed --> brunomars_countonme.txt\n",
      "Created and closed --> brunomars_theotherside.txt\n",
      "Created and closed --> brunomars_younggirls.txt\n",
      "Created and closed --> brunomars_lockedoutofheaven.txt\n",
      "Created and closed --> brunomars_gorilla.txt\n",
      "Created and closed --> brunomars_treasure.txt\n",
      "Created and closed --> brunomars_moonshine.txt\n",
      "Created and closed --> brunomars_wheniwasyourman.txt\n",
      "Created and closed --> brunomars_natalie.txt\n",
      "Created and closed --> brunomars_showme.txt\n",
      "Created and closed --> brunomars_moneymakehersmile.txt\n",
      "Created and closed --> brunomars_ifiknew.txt\n",
      "Created and closed --> brunomars_oldcrazy.txt\n",
      "Created and closed --> brunomars_24kmagic.txt\n",
      "Created and closed --> brunomars_chunky.txt\n",
      "Created and closed --> brunomars_perm.txt\n",
      "Created and closed --> brunomars_thatswhatilike.txt\n",
      "Created and closed --> brunomars_versaceonthefloor.txt\n",
      "Created and closed --> brunomars_straightupdown.txt\n",
      "Created and closed --> brunomars_callingallmylovelies.txt\n",
      "Created and closed --> brunomars_finesse.txt\n",
      "Created and closed --> brunomars_toogoodtosaygoodbye.txt\n",
      "Created and closed --> brunomars_24kmagicr3habremix.txt\n",
      "Created and closed --> brunomars_again.txt\n",
      "Created and closed --> brunomars_allaboutyou.txt\n",
      "Created and closed --> brunomars_allsheknows.txt\n",
      "Created and closed --> brunomars_circles.txt\n",
      "Created and closed --> brunomars_danceinthemirror.txt\n",
      "Created and closed --> brunomars_dontgiveup.txt\n",
      "Created and closed --> brunomars_faded.txt\n",
      "Created and closed --> brunomars_finesseremix.txt\n",
      "Created and closed --> brunomars_girliwait.txt\n",
      "Created and closed --> brunomars_girlinthewindow.txt\n",
      "Created and closed --> brunomars_gorillagmix.txt\n",
      "Created and closed --> brunomars_grenaderemix.txt\n",
      "Created and closed --> brunomars_intro.txt\n",
      "Created and closed --> brunomars_itwillrain.txt\n",
      "Created and closed --> brunomars_justthewayyouareremix.txt\n",
      "Created and closed --> brunomars_killaontherun.txt\n",
      "Created and closed --> brunomars_leavethedooropen.txt\n",
      "Created and closed --> brunomars_liketonight.txt\n",
      "Created and closed --> brunomars_longdistance.txt\n",
      "Created and closed --> brunomars_mamasworstnightmare.txt\n",
      "Created and closed --> brunomars_moveon.txt\n",
      "Created and closed --> brunomars_neversayucant.txt\n",
      "Created and closed --> brunomars_onlywhenyourelonely.txt\n",
      "Created and closed --> brunomars_pressit.txt\n",
      "Created and closed --> brunomars_restofmylife.txt\n",
      "Created and closed --> brunomars_runaway.txt\n",
      "Created and closed --> brunomars_silksonicintro.txt\n",
      "Created and closed --> brunomars_skate.txt\n",
      "Created and closed --> brunomars_startingtoday.txt\n",
      "Created and closed --> brunomars_thatswhatilikealanwalkerremix.txt\n",
      "Created and closed --> brunomars_thatswhatilikeblvkjvckremix.txt\n",
      "Created and closed --> brunomars_thatswhatilikeguccimaneremix.txt\n",
      "Created and closed --> brunomars_thatswhatilikeludacrisremix.txt\n",
      "Created and closed --> brunomars_thefirsttime.txt\n",
      "Created and closed --> brunomars_todaymylifebegins.txt\n",
      "Created and closed --> brunomars_tonight.txt\n",
      "Created and closed --> brunomars_topoftheworld.txt\n",
      "Created and closed --> brunomars_turnaround.txt\n",
      "Created and closed --> brunomars_valerie.txt\n",
      "Created and closed --> brunomars_versaceonthefloorremix.txt\n",
      "Created and closed --> brunomars_voicesinmyhead.txt\n",
      "Created and closed --> brunomars_whatchinghermove.txt\n",
      "Created and closed --> brunomars_whoareyou.txt\n",
      "Created and closed --> brunomars_whois.txt\n",
      "Created and closed --> rihanna_pondereplay.txt\n",
      "Created and closed --> rihanna_hereigoagain.txt\n",
      "Created and closed --> rihanna_ifitslovinthatyouwant.txt\n",
      "Created and closed --> rihanna_youdontlovemenonono.txt\n",
      "Created and closed --> rihanna_thatlalala.txt\n",
      "Created and closed --> rihanna_thelasttime.txt\n",
      "Created and closed --> rihanna_willingtowait.txt\n",
      "Created and closed --> rihanna_musicofthesun.txt\n",
      "Created and closed --> rihanna_letme.txt\n",
      "Created and closed --> rihanna_rush.txt\n",
      "Created and closed --> rihanna_theresathuginmylife.txt\n",
      "Created and closed --> rihanna_nowiknow.txt\n",
      "Created and closed --> rihanna_pondereplayremix.txt\n",
      "Created and closed --> rihanna_sosrescueme.txt\n",
      "Created and closed --> rihanna_kissesdontlie.txt\n",
      "Created and closed --> rihanna_unfaithful.txt\n",
      "Created and closed --> rihanna_weride.txt\n",
      "Created and closed --> rihanna_demhaters.txt\n",
      "Created and closed --> rihanna_finalgoodbye.txt\n",
      "Created and closed --> rihanna_breakitoff.txt\n",
      "Created and closed --> rihanna_crazylittlethingcalledlove.txt\n",
      "Created and closed --> rihanna_selfishgirl.txt\n",
      "Created and closed --> rihanna_psimstillnotoveryou.txt\n",
      "Created and closed --> rihanna_agirllikeme.txt\n",
      "Created and closed --> rihanna_amillionmilesaway.txt\n",
      "Created and closed --> rihanna_ifitslovinthatyouwantpt2.txt\n",
      "Created and closed --> rihanna_whoyagonnarunto.txt\n",
      "Created and closed --> rihanna_couldabeentheone.txt\n",
      "Created and closed --> rihanna_shouldi.txt\n",
      "Created and closed --> rihanna_hypnotized.txt\n",
      "Created and closed --> rihanna_umbrella.txt\n",
      "Created and closed --> rihanna_pushuponme.txt\n",
      "Created and closed --> rihanna_dontstopthemusic.txt\n",
      "Created and closed --> rihanna_breakindishes.txt\n",
      "Created and closed --> rihanna_shutupanddrive.txt\n",
      "Created and closed --> rihanna_hatethatiloveyou.txt\n",
      "Created and closed --> rihanna_sayit.txt\n",
      "Created and closed --> rihanna_sellmecandy.txt\n",
      "Created and closed --> rihanna_lemmegetthat.txt\n",
      "Created and closed --> rihanna_rehab.txt\n",
      "Created and closed --> rihanna_questionexisting.txt\n",
      "Created and closed --> rihanna_goodgirlgonebad.txt\n",
      "Created and closed --> rihanna_cry.txt\n",
      "Created and closed --> rihanna_haunted.txt\n",
      "Created and closed --> rihanna_disturbia.txt\n",
      "Created and closed --> rihanna_takeabow.txt\n",
      "Created and closed --> rihanna_ifineverseeyourfaceagain.txt\n",
      "Created and closed --> rihanna_madhouse.txt\n",
      "Created and closed --> rihanna_waityourturn.txt\n",
      "Created and closed --> rihanna_hard.txt\n",
      "Created and closed --> rihanna_stupidinlove.txt\n",
      "Created and closed --> rihanna_rockstar101.txt\n",
      "Created and closed --> rihanna_russianroulette.txt\n",
      "Created and closed --> rihanna_firebomb.txt\n",
      "Created and closed --> rihanna_rudeboy.txt\n",
      "Created and closed --> rihanna_photographs.txt\n",
      "Created and closed --> rihanna_g4l.txt\n",
      "Created and closed --> rihanna_teamo.txt\n",
      "Created and closed --> rihanna_coldcaselove.txt\n",
      "Created and closed --> rihanna_thelastsong.txt\n",
      "Created and closed --> rihanna_holeinmyhead.txt\n",
      "Created and closed --> rihanna_sm.txt\n",
      "Created and closed --> rihanna_whatsmyname.txt\n",
      "Created and closed --> rihanna_cheersdrinktothat.txt\n",
      "Created and closed --> rihanna_fading.txt\n",
      "Created and closed --> rihanna_onlygirlintheworld.txt\n",
      "Created and closed --> rihanna_californiakingbed.txt\n",
      "Created and closed --> rihanna_mandown.txt\n",
      "Created and closed --> rihanna_rainingmen.txt\n",
      "Created and closed --> rihanna_complicated.txt\n",
      "Created and closed --> rihanna_skin.txt\n",
      "Created and closed --> rihanna_lovethewayyouliepartii.txt\n",
      "Created and closed --> rihanna_youdaone.txt\n",
      "Created and closed --> rihanna_wherehaveyoubeen.txt\n",
      "Created and closed --> rihanna_wefoundlove.txt\n",
      "Created and closed --> rihanna_talkthattalk.txt\n",
      "Created and closed --> rihanna_cockinessloveit.txt\n",
      "Created and closed --> rihanna_birthdaycake.txt\n",
      "Created and closed --> rihanna_weallwantlove.txt\n",
      "Created and closed --> rihanna_drunkonlove.txt\n",
      "Created and closed --> rihanna_rocmeout.txt\n",
      "Created and closed --> rihanna_watchnlearn.txt\n",
      "Created and closed --> rihanna_farewell.txt\n",
      "Created and closed --> rihanna_redlipstick.txt\n",
      "Created and closed --> rihanna_doyathang.txt\n",
      "Created and closed --> rihanna_foolinlove.txt\n",
      "Created and closed --> rihanna_wefoundloveextendedmix.txt\n",
      "Created and closed --> rihanna_phreshouttherunway.txt\n",
      "Created and closed --> rihanna_diamonds.txt\n"
     ]
    },
    {
     "name": "stdout",
     "output_type": "stream",
     "text": [
      "Created and closed --> rihanna_numb.txt\n",
      "Created and closed --> rihanna_pouritup.txt\n",
      "Created and closed --> rihanna_loveeeeeeesong.txt\n",
      "Created and closed --> rihanna_jump.txt\n",
      "Created and closed --> rihanna_rightnow.txt\n",
      "Created and closed --> rihanna_whatnow.txt\n",
      "Created and closed --> rihanna_stay.txt\n",
      "Created and closed --> rihanna_nobodysbusiness.txt\n",
      "Created and closed --> rihanna_lovewithouttragedymothermary.txt\n",
      "Created and closed --> rihanna_getitoverwith.txt\n",
      "Created and closed --> rihanna_noloveallowed.txt\n",
      "Created and closed --> rihanna_lost-in-paradise.txt\n",
      "Created and closed --> rihanna_halfofme.txt\n",
      "Created and closed --> rihanna_diamondsdaveaud100extended.txt\n",
      "Created and closed --> rihanna_diamondsgregorsaltodowntemporemix.txt\n",
      "Created and closed --> rihanna_towardsthesun.txt\n",
      "Created and closed --> rihanna_asrealasyouandme.txt\n",
      "Created and closed --> rihanna_dancinginthedark.txt\n",
      "Created and closed --> rihanna_consideration.txt\n",
      "Created and closed --> rihanna_jamesjoint.txt\n",
      "Created and closed --> rihanna_kissitbetter.txt\n",
      "Created and closed --> rihanna_work.txt\n",
      "Created and closed --> rihanna_desperado.txt\n",
      "Created and closed --> rihanna_woo.txt\n",
      "Created and closed --> rihanna_neededme.txt\n",
      "Created and closed --> rihanna_yeahisaidit.txt\n",
      "Created and closed --> rihanna_sameolmistakes.txt\n",
      "Created and closed --> rihanna_neverending.txt\n",
      "Created and closed --> rihanna_loveonthebrain.txt\n",
      "Created and closed --> rihanna_higher.txt\n",
      "Created and closed --> rihanna_closetoyou.txt\n",
      "Created and closed --> rihanna_goodnightgotham.txt\n",
      "Created and closed --> rihanna_pose.txt\n",
      "Created and closed --> rihanna_sexwithme.txt\n",
      "Created and closed --> rihanna_americanoxygen.txt\n",
      "Created and closed --> rihanna_answer.txt\n",
      "Created and closed --> rihanna_birthdaycake243359.txt\n",
      "Created and closed --> rihanna_birthdaycakeremix.txt\n",
      "Created and closed --> rihanna_bitchbetterhavemymoney.txt\n",
      "Created and closed --> rihanna_bitchimspecial.txt\n",
      "Created and closed --> rihanna_bubblepop.txt\n",
      "Created and closed --> rihanna_cockinessloveitremix.txt\n",
      "Created and closed --> rihanna_diamondsremix.txt\n",
      "Created and closed --> rihanna_emergencyroom.txt\n",
      "Created and closed --> rihanna_fourfiveseconds.txt\n",
      "Created and closed --> rihanna_goodbye.txt\n",
      "Created and closed --> rihanna_happy.txt\n",
      "Created and closed --> rihanna_hatinontheclub.txt\n",
      "Created and closed --> rihanna_itjustdontfeellikexmaswithoutyou.txt\n",
      "Created and closed --> rihanna_kissitbetterkaytranadaremix.txt\n",
      "Created and closed --> rihanna_lostinparadise.txt\n",
      "Created and closed --> rihanna_masquerade.txt\n",
      "Created and closed --> rihanna_pouritupremix.txt\n",
      "Created and closed --> rihanna_putdatonbitch.txt\n",
      "Created and closed --> rihanna_putitup.txt\n",
      "Created and closed --> rihanna_redemptionsong.txt\n",
      "Created and closed --> rihanna_rudeboyj4rremix.txt\n",
      "Created and closed --> rihanna_smbritneyspearsremix.txt\n",
      "Created and closed --> rihanna_smjcoleremix.txt\n",
      "Created and closed --> rihanna_sexuality.txt\n",
      "Created and closed --> rihanna_sledgehammer.txt\n",
      "Created and closed --> rihanna_slowertoheal.txt\n",
      "Created and closed --> rihanna_suicide.txt\n",
      "Created and closed --> rihanna_talkthattalkremix.txt\n",
      "Created and closed --> rihanna_tippontoe.txt\n",
      "Created and closed --> rihanna_umbrellacinderellaremix.txt\n"
     ]
    }
   ],
   "source": [
    "url_stub = \"https://www.azlyrics.com\" \n",
    "start = time.time()\n",
    "\n",
    "total_pages = 0 \n",
    "\n",
    "for artist in lyrics_pages :\n",
    "   \n",
    "    # Use this space to carry out the following steps: \n",
    "    \n",
    "    # 1. Build a subfolder for the artist\n",
    "    \n",
    "    if os.path.isdir(\"lyrics/\" + artist):\n",
    "        shutil.rmtree(\"lyrics/\"+artist)\n",
    "        \n",
    "    os.mkdir(\"lyrics/\"+artist)\n",
    "    \n",
    "    # 2. Iterate over the lyrics pages   \n",
    "    # 3. Request the lyrics page. \n",
    "        # Don't forget to add a line like `time.sleep(5 + 10*random.random())`\n",
    "        # to sleep after making the request\n",
    "    # 4. Extract the title and lyrics from the page.\n",
    "    # 5. Write out the title, two returns ('\\n'), and the lyrics. Use `generate_filename_from_url`\n",
    "    #    to generate the filename. \n",
    "    \n",
    "    ## Combining all steps above:\n",
    "    \n",
    "    for lyrics in lyrics_pages[artist]:\n",
    "        r = requests.get(lyrics)\n",
    "        time.sleep(5 + 10*random.random())\n",
    "        \n",
    "        soup = BeautifulSoup(r.content, \"html.parser\")\n",
    "        \n",
    "        ## Get Song Title\n",
    "        title = soup.select_one(\"h1\").get_text(strip=True, separator=\"\\n\").replace(\" lyrics\", \"\").strip('\\\"')\n",
    "        \n",
    "        ## Get Lyrics Text\n",
    "        lyric = soup.select_one(\".ringtone ~ div\").get_text(strip=True, separator=\"\\n\")\n",
    "        \n",
    "        \n",
    "        ## Generate file name and save to file \n",
    "        filename = generate_filename_from_link(lyrics)\n",
    "        \n",
    "        with open(os.path.join(\"lyrics\", artist, filename), 'w') as file:\n",
    "            file.write(title + '\\n\\n' + lyric)\n",
    "        \n",
    "        print(\"Created and closed --> {}\".format(filename))"
   ]
  },
  {
   "cell_type": "code",
   "execution_count": null,
   "id": "36c394f1",
   "metadata": {},
   "outputs": [],
   "source": [
    "print(f\"Total run time was {round((time.time() - start)/3600,2)} hours.\")"
   ]
  },
  {
   "cell_type": "markdown",
   "id": "054cf14b",
   "metadata": {},
   "source": [
    "---\n",
    "\n",
    "# Evaluation\n",
    "\n",
    "This assignment asks you to pull data from the Twitter API and scrape www.AZLyrics.com.  After you have finished the above sections , run all the cells in this notebook. Print this to PDF and submit it, per the instructions."
   ]
  },
  {
   "cell_type": "code",
   "execution_count": null,
   "id": "217c2b0a",
   "metadata": {},
   "outputs": [],
   "source": [
    "# Simple word extractor from Peter Norvig: https://norvig.com/spell-correct.html\n",
    "def words(text): \n",
    "    return re.findall(r'\\w+', text.lower())"
   ]
  },
  {
   "cell_type": "markdown",
   "id": "9290b4c3",
   "metadata": {},
   "source": [
    "---\n",
    "\n",
    "## Checking Twitter Data\n",
    "\n",
    "The output from your Twitter API pull should be two files per artist, stored in files with formats like `cher_followers.txt` (a list of all follower IDs you pulled) and `cher_followers_data.txt`. These files should be in a folder named `twitter` within the repository directory. This code summarizes the information at a high level to help the instructor evaluate your work. "
   ]
  },
  {
   "cell_type": "code",
   "execution_count": null,
   "id": "d2174c46",
   "metadata": {},
   "outputs": [],
   "source": [
    "twitter_files = os.listdir(\"twitter\")\n",
    "twitter_files = [f for f in twitter_files if f != \".DS_Store\"]\n",
    "artist_handles = list(set([name.split(\"_\")[0] for name in twitter_files]))\n",
    "\n",
    "print(f\"We see two artist handles: {artist_handles[0]} and {artist_handles[1]}.\")"
   ]
  },
  {
   "cell_type": "code",
   "execution_count": null,
   "id": "7ad545be",
   "metadata": {},
   "outputs": [],
   "source": [
    "for artist in artist_handles :\n",
    "    follower_file = artist + \"_followers.txt\"\n",
    "    follower_data_file = artist + \"_followers_data.txt\"\n",
    "    \n",
    "    ids = open(\"twitter/\" + follower_file,'r').readlines()\n",
    "    \n",
    "    print(f\"We see {len(ids)-1} in your follower file for {artist}, assuming a header row.\")\n",
    "    \n",
    "    with open(\"twitter/\" + follower_data_file,'r') as infile :\n",
    "        \n",
    "        # check the headers\n",
    "        headers = infile.readline().split(\"\\t\")\n",
    "        \n",
    "        print(f\"In the follower data file ({follower_data_file}) for {artist}, we have these columns:\")\n",
    "        print(\" : \".join(headers))\n",
    "        \n",
    "        description_words = []\n",
    "        locations = set()\n",
    "        \n",
    "        \n",
    "        for idx, line in enumerate(infile.readlines()) :\n",
    "            line = line.strip(\"\\n\").split(\"\\t\")\n",
    "            \n",
    "            try : \n",
    "                locations.add(line[3])            \n",
    "                description_words.extend(words(line[6]))\n",
    "            except :\n",
    "                pass\n",
    "    \n",
    "        \n",
    "\n",
    "        print(f\"We have {idx+1} data rows for {artist} in the follower data file.\")\n",
    "\n",
    "        print(f\"For {artist} we have {len(locations)} unique locations.\")\n",
    "\n",
    "        print(f\"For {artist} we have {len(description_words)} words in the descriptions.\")\n",
    "        print(\"Here are the five most common words:\")\n",
    "        print(Counter(description_words).most_common(5))\n",
    "\n",
    "        \n",
    "        print(\"\")\n",
    "        print(\"-\"*40)\n",
    "        print(\"\")\n",
    "    "
   ]
  },
  {
   "cell_type": "markdown",
   "id": "37778a1c",
   "metadata": {},
   "source": [
    "## Checking Lyrics \n",
    "\n",
    "The output from your lyrics scrape should be stored in files located in this path from the directory:\n",
    "`/lyrics/[Artist Name]/[filename from URL]`. This code summarizes the information at a high level to help the instructor evaluate your work. "
   ]
  },
  {
   "cell_type": "code",
   "execution_count": null,
   "id": "bccac29c",
   "metadata": {},
   "outputs": [],
   "source": [
    "artist_folders = os.listdir(\"lyrics/\")\n",
    "artist_folders = [f for f in artist_folders if os.path.isdir(\"lyrics/\" + f)]\n",
    "\n",
    "for artist in artist_folders : \n",
    "    artist_files = os.listdir(\"lyrics/\" + artist)\n",
    "    artist_files = [f for f in artist_files if 'txt' in f or 'csv' in f or 'tsv' in f]\n",
    "\n",
    "    print(f\"For {artist} we have {len(artist_files)} files.\")\n",
    "\n",
    "    artist_words = []\n",
    "\n",
    "    for f_name in artist_files : \n",
    "        with open(\"lyrics/\" + artist + \"/\" + f_name) as infile : \n",
    "            artist_words.extend(words(infile.read()))\n",
    "\n",
    "            \n",
    "    print(f\"For {artist} we have roughly {len(artist_words)} words, {len(set(artist_words))} are unique.\")\n"
   ]
  }
 ],
 "metadata": {
  "kernelspec": {
   "display_name": "Python 3 (ipykernel)",
   "language": "python",
   "name": "python3"
  },
  "language_info": {
   "codemirror_mode": {
    "name": "ipython",
    "version": 3
   },
   "file_extension": ".py",
   "mimetype": "text/x-python",
   "name": "python",
   "nbconvert_exporter": "python",
   "pygments_lexer": "ipython3",
   "version": "3.9.5"
  }
 },
 "nbformat": 4,
 "nbformat_minor": 5
}
